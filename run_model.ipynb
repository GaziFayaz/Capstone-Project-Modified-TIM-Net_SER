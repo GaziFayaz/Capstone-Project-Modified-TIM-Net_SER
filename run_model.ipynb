{
 "cells": [
  {
   "cell_type": "code",
   "execution_count": 17,
   "metadata": {},
   "outputs": [],
   "source": [
    "# import matplotlib.pyplot as plt\n",
    "# import numpy as np\n",
    "import os\n",
    "import tensorflow as tf\n",
    "from tensorflow import keras\n",
    "import TIMNET\n",
    "# from tensorflow.keras.optimizers import Adam\n",
    "# from glob import glob\n",
    "# from datetime import datetime\n",
    "# # from tensorflow.keras.models import load_weights"
   ]
  },
  {
   "cell_type": "code",
   "execution_count": 3,
   "metadata": {},
   "outputs": [
    {
     "name": "stdout",
     "output_type": "stream",
     "text": [
      "Package                      Version\n",
      "---------------------------- ---------\n",
      "absl-py                      2.0.0\n",
      "asttokens                    2.4.0\n",
      "astunparse                   1.6.3\n",
      "attrs                        23.1.0\n",
      "audioread                    3.0.0\n",
      "backcall                     0.2.0\n",
      "cachetools                   5.3.1\n",
      "certifi                      2023.7.22\n",
      "cffi                         1.15.1\n",
      "charset-normalizer           3.2.0\n",
      "colorama                     0.4.6\n",
      "comm                         0.1.4\n",
      "contourpy                    1.1.1\n",
      "cycler                       0.11.0\n",
      "debugpy                      1.8.0\n",
      "decorator                    5.1.1\n",
      "exceptiongroup               1.1.3\n",
      "executing                    1.2.0\n",
      "flatbuffers                  23.5.26\n",
      "fonttools                    4.42.1\n",
      "gast                         0.4.0\n",
      "google-auth                  2.23.0\n",
      "google-auth-oauthlib         1.0.0\n",
      "google-pasta                 0.2.0\n",
      "grpcio                       1.58.0\n",
      "h11                          0.14.0\n",
      "h5py                         3.9.0\n",
      "idna                         3.4\n",
      "ipykernel                    6.25.2\n",
      "ipython                      8.15.0\n",
      "jedi                         0.19.0\n",
      "joblib                       1.3.2\n",
      "jupyter_client               8.3.1\n",
      "jupyter_core                 5.3.1\n",
      "keras                        2.13.1\n",
      "kiwisolver                   1.4.5\n",
      "lazy_loader                  0.3\n",
      "libclang                     16.0.6\n",
      "librosa                      0.10.1\n",
      "llvmlite                     0.41.0\n",
      "Markdown                     3.4.4\n",
      "MarkupSafe                   2.1.3\n",
      "matplotlib                   3.8.0\n",
      "matplotlib-inline            0.1.6\n",
      "msgpack                      1.0.6\n",
      "natsort                      8.4.0\n",
      "nest-asyncio                 1.5.8\n",
      "numba                        0.58.0\n",
      "numpy                        1.24.3\n",
      "oauthlib                     3.2.2\n",
      "opt-einsum                   3.3.0\n",
      "outcome                      1.2.0\n",
      "packaging                    23.1\n",
      "parso                        0.8.3\n",
      "pickleshare                  0.7.5\n",
      "Pillow                       10.0.1\n",
      "pip                          23.2.1\n",
      "platformdirs                 3.10.0\n",
      "pooch                        1.7.0\n",
      "prompt-toolkit               3.0.39\n",
      "protobuf                     4.24.3\n",
      "psutil                       5.9.5\n",
      "pure-eval                    0.2.2\n",
      "pyasn1                       0.5.0\n",
      "pyasn1-modules               0.3.0\n",
      "pycparser                    2.21\n",
      "Pygments                     2.16.1\n",
      "pyparsing                    3.1.1\n",
      "PySocks                      1.7.1\n",
      "python-dateutil              2.8.2\n",
      "python-dotenv                1.0.0\n",
      "python-speech-features       0.6\n",
      "pywin32                      306\n",
      "pyzmq                        25.1.1\n",
      "requests                     2.31.0\n",
      "requests-oauthlib            1.3.1\n",
      "rsa                          4.9\n",
      "scikit-learn                 1.3.1\n",
      "scipy                        1.11.2\n",
      "selenium                     4.12.0\n",
      "setuptools                   65.5.0\n",
      "six                          1.16.0\n",
      "sniffio                      1.3.0\n",
      "sortedcontainers             2.4.0\n",
      "soundfile                    0.12.1\n",
      "soxr                         0.3.6\n",
      "stack-data                   0.6.2\n",
      "tensorboard                  2.13.0\n",
      "tensorboard-data-server      0.7.1\n",
      "tensorflow                   2.13.0\n",
      "tensorflow-estimator         2.13.0\n",
      "tensorflow-intel             2.13.0\n",
      "tensorflow-io-gcs-filesystem 0.31.0\n",
      "termcolor                    2.3.0\n",
      "threadpoolctl                3.2.0\n",
      "tornado                      6.3.3\n",
      "tqdm                         4.66.1\n",
      "traitlets                    5.10.1\n",
      "trio                         0.22.2\n",
      "trio-websocket               0.10.4\n",
      "typing_extensions            4.5.0\n",
      "urllib3                      1.26.16\n",
      "wcwidth                      0.2.6\n",
      "Werkzeug                     2.3.7\n",
      "wheel                        0.41.2\n",
      "wrapt                        1.15.0\n",
      "wsproto                      1.2.0\n"
     ]
    }
   ],
   "source": [
    "!pip list"
   ]
  },
  {
   "cell_type": "code",
   "execution_count": 19,
   "metadata": {},
   "outputs": [
    {
     "ename": "ModuleNotFoundError",
     "evalue": "No module named 'pandas'",
     "output_type": "error",
     "traceback": [
      "\u001b[1;31m---------------------------------------------------------------------------\u001b[0m",
      "\u001b[1;31mModuleNotFoundError\u001b[0m                       Traceback (most recent call last)",
      "\u001b[1;32me:\\University Courses\\CSE400\\project code\\TIM-Net_SER\\Code\\run_model.ipynb Cell 3\u001b[0m line \u001b[0;36m1\n\u001b[1;32m----> <a href='vscode-notebook-cell:/e%3A/University%20Courses/CSE400/project%20code/TIM-Net_SER/Code/run_model.ipynb#W6sZmlsZQ%3D%3D?line=0'>1</a>\u001b[0m \u001b[39mfrom\u001b[39;00m \u001b[39mModel\u001b[39;00m \u001b[39mimport\u001b[39;00m TIMNET_Model\n",
      "File \u001b[1;32me:\\University Courses\\CSE400\\project code\\TIM-Net_SER\\Code\\Model.py:19\u001b[0m\n\u001b[0;32m     17\u001b[0m \u001b[39mfrom\u001b[39;00m \u001b[39msklearn\u001b[39;00m\u001b[39m.\u001b[39;00m\u001b[39mmetrics\u001b[39;00m \u001b[39mimport\u001b[39;00m confusion_matrix\n\u001b[0;32m     18\u001b[0m \u001b[39mimport\u001b[39;00m \u001b[39mdatetime\u001b[39;00m\n\u001b[1;32m---> 19\u001b[0m \u001b[39mimport\u001b[39;00m \u001b[39mpandas\u001b[39;00m \u001b[39mas\u001b[39;00m \u001b[39mpd\u001b[39;00m\n\u001b[0;32m     20\u001b[0m \u001b[39mimport\u001b[39;00m \u001b[39mcopy\u001b[39;00m\n\u001b[0;32m     22\u001b[0m \u001b[39mfrom\u001b[39;00m \u001b[39mTIMNET\u001b[39;00m \u001b[39mimport\u001b[39;00m TIMNET\n",
      "\u001b[1;31mModuleNotFoundError\u001b[0m: No module named 'pandas'"
     ]
    }
   ],
   "source": [
    "from Model import TIMNET_Model\n"
   ]
  },
  {
   "cell_type": "code",
   "execution_count": 18,
   "metadata": {},
   "outputs": [
    {
     "ename": "AttributeError",
     "evalue": "module 'tensorflow' has no attribute 'create_model'",
     "output_type": "error",
     "traceback": [
      "\u001b[1;31m---------------------------------------------------------------------------\u001b[0m",
      "\u001b[1;31mAttributeError\u001b[0m                            Traceback (most recent call last)",
      "\u001b[1;32me:\\University Courses\\CSE400\\project code\\TIM-Net_SER\\Code\\run_model.ipynb Cell 3\u001b[0m line \u001b[0;36m1\n\u001b[1;32m----> <a href='vscode-notebook-cell:/e%3A/University%20Courses/CSE400/project%20code/TIM-Net_SER/Code/run_model.ipynb#W1sZmlsZQ%3D%3D?line=0'>1</a>\u001b[0m model \u001b[39m=\u001b[39m tf\u001b[39m.\u001b[39;49mcreate_model()\n",
      "\u001b[1;31mAttributeError\u001b[0m: module 'tensorflow' has no attribute 'create_model'"
     ]
    }
   ],
   "source": [
    "def create_model():\n",
    "    model = T\n"
   ]
  },
  {
   "cell_type": "code",
   "execution_count": 12,
   "metadata": {},
   "outputs": [
    {
     "data": {
      "text/plain": [
       "['5-fold_weights_best_1.hdf5',\n",
       " '5-fold_weights_best_2.hdf5',\n",
       " '5-fold_weights_best_3.hdf5',\n",
       " '5-fold_weights_best_4.hdf5',\n",
       " '5-fold_weights_best_5.hdf5']"
      ]
     },
     "execution_count": 12,
     "metadata": {},
     "output_type": "execute_result"
    }
   ],
   "source": [
    "os.listdir(\"E:/University Courses/CSE400/project code/TIM-Net_SER/Code/Models/COMBINED_46_2023-09-26_00-01-24\")"
   ]
  },
  {
   "cell_type": "code",
   "execution_count": 15,
   "metadata": {},
   "outputs": [
    {
     "ename": "ValueError",
     "evalue": "bad marshal data (unknown type code)",
     "output_type": "error",
     "traceback": [
      "\u001b[1;31m---------------------------------------------------------------------------\u001b[0m",
      "\u001b[1;31mValueError\u001b[0m                                Traceback (most recent call last)",
      "\u001b[1;32me:\\University Courses\\CSE400\\project code\\TIM-Net_SER\\Code\\run_model.ipynb Cell 5\u001b[0m line \u001b[0;36m1\n\u001b[1;32m----> <a href='vscode-notebook-cell:/e%3A/University%20Courses/CSE400/project%20code/TIM-Net_SER/Code/run_model.ipynb#W3sZmlsZQ%3D%3D?line=0'>1</a>\u001b[0m model \u001b[39m=\u001b[39m load_model(\u001b[39m\"\u001b[39;49m\u001b[39mE:/University Courses/CSE400/project code/TIM-Net_SER/Code/Models/COMBINED_46_2023-09-26_00-01-24/5-fold_weights_best_3.hdf5\u001b[39;49m\u001b[39m\"\u001b[39;49m)\n\u001b[0;32m      <a href='vscode-notebook-cell:/e%3A/University%20Courses/CSE400/project%20code/TIM-Net_SER/Code/run_model.ipynb#W3sZmlsZQ%3D%3D?line=1'>2</a>\u001b[0m \u001b[39mprint\u001b[39m(\u001b[39m\"\u001b[39m\u001b[39mLoaded Model From Disk!\u001b[39m\u001b[39m\"\u001b[39m)\n",
      "File \u001b[1;32me:\\Softwares\\python\\Lib\\site-packages\\keras\\src\\saving\\saving_api.py:238\u001b[0m, in \u001b[0;36mload_model\u001b[1;34m(filepath, custom_objects, compile, safe_mode, **kwargs)\u001b[0m\n\u001b[0;32m    230\u001b[0m     \u001b[39mreturn\u001b[39;00m saving_lib\u001b[39m.\u001b[39mload_model(\n\u001b[0;32m    231\u001b[0m         filepath,\n\u001b[0;32m    232\u001b[0m         custom_objects\u001b[39m=\u001b[39mcustom_objects,\n\u001b[0;32m    233\u001b[0m         \u001b[39mcompile\u001b[39m\u001b[39m=\u001b[39m\u001b[39mcompile\u001b[39m,\n\u001b[0;32m    234\u001b[0m         safe_mode\u001b[39m=\u001b[39msafe_mode,\n\u001b[0;32m    235\u001b[0m     )\n\u001b[0;32m    237\u001b[0m \u001b[39m# Legacy case.\u001b[39;00m\n\u001b[1;32m--> 238\u001b[0m \u001b[39mreturn\u001b[39;00m legacy_sm_saving_lib\u001b[39m.\u001b[39;49mload_model(\n\u001b[0;32m    239\u001b[0m     filepath, custom_objects\u001b[39m=\u001b[39;49mcustom_objects, \u001b[39mcompile\u001b[39;49m\u001b[39m=\u001b[39;49m\u001b[39mcompile\u001b[39;49m, \u001b[39m*\u001b[39;49m\u001b[39m*\u001b[39;49mkwargs\n\u001b[0;32m    240\u001b[0m )\n",
      "File \u001b[1;32me:\\Softwares\\python\\Lib\\site-packages\\keras\\src\\utils\\traceback_utils.py:70\u001b[0m, in \u001b[0;36mfilter_traceback.<locals>.error_handler\u001b[1;34m(*args, **kwargs)\u001b[0m\n\u001b[0;32m     67\u001b[0m     filtered_tb \u001b[39m=\u001b[39m _process_traceback_frames(e\u001b[39m.\u001b[39m__traceback__)\n\u001b[0;32m     68\u001b[0m     \u001b[39m# To get the full stack trace, call:\u001b[39;00m\n\u001b[0;32m     69\u001b[0m     \u001b[39m# `tf.debugging.disable_traceback_filtering()`\u001b[39;00m\n\u001b[1;32m---> 70\u001b[0m     \u001b[39mraise\u001b[39;00m e\u001b[39m.\u001b[39mwith_traceback(filtered_tb) \u001b[39mfrom\u001b[39;00m \u001b[39mNone\u001b[39;00m\n\u001b[0;32m     71\u001b[0m \u001b[39mfinally\u001b[39;00m:\n\u001b[0;32m     72\u001b[0m     \u001b[39mdel\u001b[39;00m filtered_tb\n",
      "File \u001b[1;32me:\\Softwares\\python\\Lib\\site-packages\\keras\\src\\utils\\generic_utils.py:102\u001b[0m, in \u001b[0;36mfunc_load\u001b[1;34m(code, defaults, closure, globs)\u001b[0m\n\u001b[0;32m    100\u001b[0m \u001b[39mexcept\u001b[39;00m (\u001b[39mUnicodeEncodeError\u001b[39;00m, binascii\u001b[39m.\u001b[39mError):\n\u001b[0;32m    101\u001b[0m     raw_code \u001b[39m=\u001b[39m code\u001b[39m.\u001b[39mencode(\u001b[39m\"\u001b[39m\u001b[39mraw_unicode_escape\u001b[39m\u001b[39m\"\u001b[39m)\n\u001b[1;32m--> 102\u001b[0m code \u001b[39m=\u001b[39m marshal\u001b[39m.\u001b[39;49mloads(raw_code)\n\u001b[0;32m    103\u001b[0m \u001b[39mif\u001b[39;00m globs \u001b[39mis\u001b[39;00m \u001b[39mNone\u001b[39;00m:\n\u001b[0;32m    104\u001b[0m     globs \u001b[39m=\u001b[39m \u001b[39mglobals\u001b[39m()\n",
      "\u001b[1;31mValueError\u001b[0m: bad marshal data (unknown type code)"
     ]
    }
   ],
   "source": [
    "model = load_model(\"E:/University Courses/CSE400/project code/TIM-Net_SER/Code/Models/COMBINED_46_2023-09-26_00-01-24/5-fold_weights_best_3.hdf5\")\n",
    "print(\"Loaded Model From Disk!\")"
   ]
  },
  {
   "cell_type": "code",
   "execution_count": null,
   "metadata": {},
   "outputs": [],
   "source": []
  }
 ],
 "metadata": {
  "kernelspec": {
   "display_name": "Python 3",
   "language": "python",
   "name": "python3"
  },
  "language_info": {
   "codemirror_mode": {
    "name": "ipython",
    "version": 3
   },
   "file_extension": ".py",
   "mimetype": "text/x-python",
   "name": "python",
   "nbconvert_exporter": "python",
   "pygments_lexer": "ipython3",
   "version": "3.11.5"
  },
  "orig_nbformat": 4
 },
 "nbformat": 4,
 "nbformat_minor": 2
}
